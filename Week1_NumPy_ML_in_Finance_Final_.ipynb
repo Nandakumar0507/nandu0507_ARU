{
  "cells": [
    {
      "cell_type": "markdown",
      "metadata": {
        "id": "view-in-github",
        "colab_type": "text"
      },
      "source": [
        "<a href=\"https://colab.research.google.com/github/Nandakumar0507/nandu0507_ARU/blob/main/Week1_NumPy_ML_in_Finance_Final_.ipynb\" target=\"_parent\"><img src=\"https://colab.research.google.com/assets/colab-badge.svg\" alt=\"Open In Colab\"/></a>"
      ]
    },
    {
      "cell_type": "markdown",
      "metadata": {
        "id": "CWOGXe3h3Unf"
      },
      "source": [
        "<html> <h1 style=\"font-style:bold; color:blue;\"> Machine Learning in Finance </h1> </html>"
      ]
    },
    {
      "cell_type": "markdown",
      "metadata": {
        "id": "WpIMP8B93Unh"
      },
      "source": [
        "<html> <h1 style=\"font-style:italic; color:blue;\"> Week-1 </h1> </html>\n"
      ]
    },
    {
      "cell_type": "code",
      "execution_count": null,
      "metadata": {
        "id": "iDUaE6iB3Unh"
      },
      "outputs": [],
      "source": []
    },
    {
      "cell_type": "markdown",
      "metadata": {
        "id": "Wg_M6mdC3Uni"
      },
      "source": [
        "# NumPy\n",
        "\n",
        "The main python library used in numerical data analysis is NumPy (or Numpy). It is a Linear Algebra Library for Python.  It is a very important library for Data Science with Python mainly because Numpy is incredibly fast, as it has bindings to C libraries.\n",
        "\n",
        "It provides a high-performance multidimensional array object, and tools for working with these arrays.\n",
        "\n",
        "This practical gives only an introduction to Numpy."
      ]
    },
    {
      "cell_type": "markdown",
      "metadata": {
        "id": "tdfU8XP_3Uni"
      },
      "source": [
        "## Installation NumPy\n",
        "\n",
        "**In the case of using the Anaconda distribution, the Numpay has already been installed. If you have any problem with Numpay functionality, it is highly recommended to re-install Numpay using the following command:**\n",
        "    \n",
        "    install numpy\n"
      ]
    },
    {
      "cell_type": "markdown",
      "metadata": {
        "id": "eWlZCPeg3Uni"
      },
      "source": [
        "____________________________________________![image.png](attachment:d7dc4e19-f52e-4a93-b2f1-e4cd231d4be9.png)"
      ]
    },
    {
      "cell_type": "code",
      "execution_count": null,
      "metadata": {
        "id": "PZ9pp9B-3Uni"
      },
      "outputs": [],
      "source": []
    },
    {
      "cell_type": "code",
      "execution_count": null,
      "metadata": {
        "id": "eF3QSqv43Uni"
      },
      "outputs": [],
      "source": []
    },
    {
      "cell_type": "markdown",
      "metadata": {
        "id": "2NRPGodj3Uni"
      },
      "source": [
        "One of the most popular features of the Numpy library is the capability of operations with arrays of different sizes (or ranks).\n",
        "\n",
        "Dimensions of arrays:\n",
        "- vectors - One dimensional arrays,\n",
        "- matrices - Two dimensional arrays,\n",
        "- tensor - Three or more arrays."
      ]
    },
    {
      "cell_type": "markdown",
      "metadata": {
        "id": "gveNCEAp3Uni"
      },
      "source": [
        "49.png![image.png](attachment:image.png)"
      ]
    },
    {
      "cell_type": "markdown",
      "metadata": {
        "id": "VRgqeWjO3Uni"
      },
      "source": [
        "____________________________________________![image.png](attachment:c8b0e131-8ac3-4605-b402-9cca1b5ba9d3.png)"
      ]
    },
    {
      "cell_type": "code",
      "execution_count": null,
      "metadata": {
        "id": "mO4r46UJ3Uni"
      },
      "outputs": [],
      "source": []
    },
    {
      "cell_type": "code",
      "execution_count": null,
      "metadata": {
        "id": "56ANUXSu3Unj"
      },
      "outputs": [],
      "source": []
    },
    {
      "cell_type": "markdown",
      "metadata": {
        "id": "WLKkRLs23Unj"
      },
      "source": [
        "____________________________________________![image.png](attachment:565f7ffe-ea75-4f62-b130-093f60e7e041.png)"
      ]
    },
    {
      "cell_type": "code",
      "execution_count": null,
      "metadata": {
        "id": "Iu0IiJfK3Unj"
      },
      "outputs": [],
      "source": []
    },
    {
      "cell_type": "code",
      "execution_count": null,
      "metadata": {
        "id": "QDwOOwpJ3Unj",
        "outputId": "d0e98284-c7ac-4edd-8137-8631663980dd"
      },
      "outputs": [
        {
          "name": "stdout",
          "output_type": "stream",
          "text": [
            "<class 'numpy.ndarray'>\n",
            "(3,)\n"
          ]
        }
      ],
      "source": []
    },
    {
      "cell_type": "markdown",
      "metadata": {
        "id": "xc5COi0Y3Unj"
      },
      "source": [
        "____________________________________________![image.png](attachment:cd442ab7-487e-4b31-ab69-0177198e683e.png)"
      ]
    },
    {
      "cell_type": "code",
      "execution_count": null,
      "metadata": {
        "id": "SZ4ddvNt3Unj"
      },
      "outputs": [],
      "source": []
    },
    {
      "cell_type": "code",
      "execution_count": null,
      "metadata": {
        "id": "lVsQl77y3Unj",
        "outputId": "18881f98-34a8-4022-d1e0-ae68102b332b"
      },
      "outputs": [
        {
          "name": "stdout",
          "output_type": "stream",
          "text": [
            "1 2 3\n",
            "[1 2 3]\n"
          ]
        }
      ],
      "source": []
    },
    {
      "cell_type": "markdown",
      "metadata": {
        "id": "SHvWAIjW3Unj"
      },
      "source": [
        "____________________________________________![image.png](attachment:8acae197-093e-403c-adaa-e2eefa1cca1a.png)"
      ]
    },
    {
      "cell_type": "code",
      "execution_count": null,
      "metadata": {
        "id": "Ro6W6uwI3Unj"
      },
      "outputs": [],
      "source": []
    },
    {
      "cell_type": "code",
      "execution_count": null,
      "metadata": {
        "id": "CbSIFOEt3Unj",
        "outputId": "42e6d452-c799-4c45-8e02-5c84f2daae8f"
      },
      "outputs": [
        {
          "name": "stdout",
          "output_type": "stream",
          "text": [
            "[5 2 3]\n"
          ]
        }
      ],
      "source": []
    },
    {
      "cell_type": "markdown",
      "metadata": {
        "id": "n7a7koAi3Unk"
      },
      "source": [
        "____________________________________________![image.png](attachment:f676ad92-bb1d-49c6-bff6-e4aca2174453.png)"
      ]
    },
    {
      "cell_type": "code",
      "execution_count": null,
      "metadata": {
        "id": "sw7Z0gub3Unk"
      },
      "outputs": [],
      "source": []
    },
    {
      "cell_type": "code",
      "execution_count": null,
      "metadata": {
        "id": "e5HYGTaQ3Unk",
        "outputId": "02b39aa4-c08e-415b-bf13-c7450fc7b552"
      },
      "outputs": [
        {
          "data": {
            "text/plain": [
              "array([[1, 2, 3],\n",
              "       [4, 5, 6]])"
            ]
          },
          "execution_count": 17,
          "metadata": {},
          "output_type": "execute_result"
        }
      ],
      "source": []
    },
    {
      "cell_type": "markdown",
      "metadata": {
        "id": "HyrT_Vci3Unk"
      },
      "source": [
        "____________________________________________![image.png](attachment:193cd9e0-7861-4552-9ac9-237f88534427.png)"
      ]
    },
    {
      "cell_type": "code",
      "execution_count": null,
      "metadata": {
        "id": "a535C8pY3Unk"
      },
      "outputs": [],
      "source": []
    },
    {
      "cell_type": "code",
      "execution_count": null,
      "metadata": {
        "id": "iIfe1fu33Unk",
        "outputId": "df558110-2313-4e89-a704-4da67654b8ee"
      },
      "outputs": [
        {
          "name": "stdout",
          "output_type": "stream",
          "text": [
            "4\n"
          ]
        }
      ],
      "source": []
    },
    {
      "cell_type": "code",
      "execution_count": null,
      "metadata": {
        "id": "grxf4pWQ3Unk"
      },
      "outputs": [],
      "source": []
    },
    {
      "cell_type": "markdown",
      "metadata": {
        "id": "svGgsy8g3Unk"
      },
      "source": [
        "### arange\n",
        "\n",
        "The arange() method is used to return an evenly spaced values within a given interval.\n",
        "The method has the following parameters:\n",
        "- **start** parameter (inclusive in the sequence)  \n",
        "- **end** parameter (exclusive in the sequence)\n",
        "- **step size** (optional parameter used to find the next element in the sequence)\n"
      ]
    },
    {
      "cell_type": "markdown",
      "metadata": {
        "id": "hSYThwL23Unk"
      },
      "source": [
        "____________________________________________![image.png](attachment:be72cd71-324f-4b2f-a9eb-9f58864ee035.png)"
      ]
    },
    {
      "cell_type": "code",
      "execution_count": null,
      "metadata": {
        "id": "MRI-h9_d3Unk"
      },
      "outputs": [],
      "source": []
    },
    {
      "cell_type": "code",
      "execution_count": null,
      "metadata": {
        "id": "XQ8uKGei3Unk",
        "outputId": "2f206e64-42f3-46aa-88b2-e425ab617588"
      },
      "outputs": [
        {
          "data": {
            "text/plain": [
              "array([10, 11, 12, 13, 14, 15, 16, 17, 18, 19])"
            ]
          },
          "execution_count": 21,
          "metadata": {},
          "output_type": "execute_result"
        }
      ],
      "source": []
    },
    {
      "cell_type": "markdown",
      "metadata": {
        "id": "-OPob2Cn3Unk"
      },
      "source": [
        "____________________________________________![image.png](attachment:793515fa-88f9-471d-bb3d-6b28e65a20c1.png)"
      ]
    },
    {
      "cell_type": "code",
      "execution_count": null,
      "metadata": {
        "id": "ekklr6RG3Unl"
      },
      "outputs": [],
      "source": []
    },
    {
      "cell_type": "code",
      "execution_count": null,
      "metadata": {
        "id": "SmGiHuDZ3Unl",
        "outputId": "39b53843-a627-4eb1-9987-f53a9ecd755b"
      },
      "outputs": [
        {
          "data": {
            "text/plain": [
              "array([30, 27, 24, 21, 18, 15, 12,  9,  6,  3])"
            ]
          },
          "execution_count": 23,
          "metadata": {},
          "output_type": "execute_result"
        }
      ],
      "source": []
    },
    {
      "cell_type": "code",
      "execution_count": null,
      "metadata": {
        "id": "ZXbZpLAJ3Unl"
      },
      "outputs": [],
      "source": []
    },
    {
      "cell_type": "markdown",
      "metadata": {
        "id": "zMMlakBR3Unl"
      },
      "source": [
        "<html> <h3 style=\"font-style:italic; color:blue;\"> Let us compare the performance of Numpay and Python arrays. </h3> </html>"
      ]
    },
    {
      "cell_type": "code",
      "execution_count": null,
      "metadata": {
        "id": "7Xm2oFKz3Unl"
      },
      "outputs": [],
      "source": [
        "# timeit - executes the code several times and gives statistics."
      ]
    },
    {
      "cell_type": "markdown",
      "metadata": {
        "id": "fTTsM2Ak3Unp"
      },
      "source": [
        "#### Now just press 'CTRL' and 'ENTER' keys on the next cells."
      ]
    },
    {
      "cell_type": "code",
      "execution_count": null,
      "metadata": {
        "id": "6kMNtALV3Unp",
        "outputId": "e5394c6c-0fc3-4c16-cd32-9a751e20f3f6"
      },
      "outputs": [
        {
          "name": "stdout",
          "output_type": "stream",
          "text": [
            "1.19 μs ± 29.8 ns per loop (mean ± std. dev. of 7 runs, 1,000,000 loops each)\n"
          ]
        }
      ],
      "source": [
        "%timeit np.arange(0, 1000)"
      ]
    },
    {
      "cell_type": "code",
      "execution_count": null,
      "metadata": {
        "id": "9XrRlwDK3Unq",
        "outputId": "7c65844e-d82b-4160-994d-9fd107f25a78"
      },
      "outputs": [
        {
          "name": "stdout",
          "output_type": "stream",
          "text": [
            "84 ns ± 0.836 ns per loop (mean ± std. dev. of 7 runs, 10,000,000 loops each)\n"
          ]
        }
      ],
      "source": [
        "%timeit range(0, 1000)"
      ]
    },
    {
      "cell_type": "code",
      "execution_count": null,
      "metadata": {
        "id": "XnmieFRa3Unq"
      },
      "outputs": [],
      "source": []
    },
    {
      "cell_type": "markdown",
      "metadata": {
        "id": "r1XeTK473Unq"
      },
      "source": [
        "<html> <h3 style=\"color:blue;\"> Numpy also provides many functions to create arrays </h3> </html>"
      ]
    },
    {
      "cell_type": "markdown",
      "metadata": {
        "id": "O4zhaM6m3Unq"
      },
      "source": [
        "____________________________________________![image.png](attachment:5644d1a1-af6f-499a-8b57-56e2b163cf07.png)"
      ]
    },
    {
      "cell_type": "code",
      "execution_count": null,
      "metadata": {
        "id": "usXWpXWx3Unq"
      },
      "outputs": [],
      "source": []
    },
    {
      "cell_type": "code",
      "execution_count": null,
      "metadata": {
        "id": "3CF7U5Vr3Unq",
        "outputId": "470a7edf-67f1-486a-d3b6-6fb6fb3f9cb6"
      },
      "outputs": [
        {
          "data": {
            "text/plain": [
              "array([[0., 0.],\n",
              "       [0., 0.]])"
            ]
          },
          "execution_count": 29,
          "metadata": {},
          "output_type": "execute_result"
        }
      ],
      "source": []
    },
    {
      "cell_type": "markdown",
      "metadata": {
        "id": "koGTLhlW3Unq"
      },
      "source": [
        "____________________________________________![image.png](attachment:2b89ec2a-047e-4e58-9ca8-fcb0f4cb6b5b.png)"
      ]
    },
    {
      "cell_type": "code",
      "execution_count": null,
      "metadata": {
        "id": "3-YDuAAr3Unq"
      },
      "outputs": [],
      "source": []
    },
    {
      "cell_type": "code",
      "execution_count": null,
      "metadata": {
        "id": "0XLGKlR83Unq",
        "outputId": "ab0861f6-1de9-4b63-a5c9-239b4e534655"
      },
      "outputs": [
        {
          "data": {
            "text/plain": [
              "array([[1., 1., 1., 1.],\n",
              "       [1., 1., 1., 1.],\n",
              "       [1., 1., 1., 1.]])"
            ]
          },
          "execution_count": 31,
          "metadata": {},
          "output_type": "execute_result"
        }
      ],
      "source": []
    },
    {
      "cell_type": "markdown",
      "metadata": {
        "id": "ezp5IneP3Unq"
      },
      "source": [
        "____________________________________________![image.png](attachment:267a89d5-8030-4262-b0b8-6c744458ad89.png)"
      ]
    },
    {
      "cell_type": "code",
      "execution_count": null,
      "metadata": {
        "id": "oV1mB6ND3Unr"
      },
      "outputs": [],
      "source": []
    },
    {
      "cell_type": "code",
      "execution_count": null,
      "metadata": {
        "id": "Xn9XE0yF3Unr",
        "outputId": "07824d7e-56b0-4447-c8e8-cb159779f7d6"
      },
      "outputs": [
        {
          "data": {
            "text/plain": [
              "array([[1., 0., 0., 0.],\n",
              "       [0., 1., 0., 0.],\n",
              "       [0., 0., 1., 0.],\n",
              "       [0., 0., 0., 1.]])"
            ]
          },
          "execution_count": 33,
          "metadata": {},
          "output_type": "execute_result"
        }
      ],
      "source": []
    },
    {
      "cell_type": "markdown",
      "metadata": {
        "id": "d_1lDRQh3Unr"
      },
      "source": [
        "____________________________________________![image.png](attachment:339d2c8c-51d3-4874-9dd6-ccc57337eeb1.png)"
      ]
    },
    {
      "cell_type": "code",
      "execution_count": null,
      "metadata": {
        "id": "l2zfFTrC3Unr"
      },
      "outputs": [],
      "source": []
    },
    {
      "cell_type": "code",
      "execution_count": null,
      "metadata": {
        "id": "bz0CtlsJ3Unr",
        "outputId": "11355353-66c5-4638-9f1b-892ea25e0045"
      },
      "outputs": [
        {
          "data": {
            "text/plain": [
              "array([[0.19249862, 0.99025753],\n",
              "       [0.15139398, 0.09978187]])"
            ]
          },
          "execution_count": 35,
          "metadata": {},
          "output_type": "execute_result"
        }
      ],
      "source": []
    },
    {
      "cell_type": "markdown",
      "metadata": {
        "id": "C5KJBOHm3Unr"
      },
      "source": [
        "____________________________________________![image.png](attachment:155cb7d7-48d9-4b79-a551-503d42cca2b9.png)"
      ]
    },
    {
      "cell_type": "code",
      "execution_count": null,
      "metadata": {
        "id": "UsFxu18e3Unr"
      },
      "outputs": [],
      "source": []
    },
    {
      "cell_type": "code",
      "execution_count": null,
      "metadata": {
        "id": "RwfB4Eu73Unr",
        "outputId": "4ffcafac-646a-4bbe-c2bd-fe1fe94a41b0"
      },
      "outputs": [
        {
          "data": {
            "text/plain": [
              "array([ 0.,  2.,  4.,  6.,  8., 10., 12., 14., 16., 18., 20.])"
            ]
          },
          "execution_count": 37,
          "metadata": {},
          "output_type": "execute_result"
        }
      ],
      "source": []
    },
    {
      "cell_type": "markdown",
      "metadata": {
        "id": "sP5hn6fz3Unr"
      },
      "source": [
        "____________________________________________![image.png](attachment:46117baf-57b3-493c-b73d-d3255b181220.png)"
      ]
    },
    {
      "cell_type": "code",
      "execution_count": null,
      "metadata": {
        "id": "G9yFsJfI3Unr"
      },
      "outputs": [],
      "source": []
    },
    {
      "cell_type": "code",
      "execution_count": null,
      "metadata": {
        "id": "uu6knrDl3Unr",
        "outputId": "432800b5-4f07-4dd0-a443-1e3dc182f314"
      },
      "outputs": [
        {
          "data": {
            "text/plain": [
              "array([ 0.        ,  0.68965517,  1.37931034,  2.06896552,  2.75862069,\n",
              "        3.44827586,  4.13793103,  4.82758621,  5.51724138,  6.20689655,\n",
              "        6.89655172,  7.5862069 ,  8.27586207,  8.96551724,  9.65517241,\n",
              "       10.34482759, 11.03448276, 11.72413793, 12.4137931 , 13.10344828,\n",
              "       13.79310345, 14.48275862, 15.17241379, 15.86206897, 16.55172414,\n",
              "       17.24137931, 17.93103448, 18.62068966, 19.31034483, 20.        ])"
            ]
          },
          "execution_count": 39,
          "metadata": {},
          "output_type": "execute_result"
        }
      ],
      "source": []
    },
    {
      "cell_type": "code",
      "execution_count": null,
      "metadata": {
        "id": "WfCx2ybU3Unr"
      },
      "outputs": [],
      "source": []
    },
    {
      "cell_type": "markdown",
      "metadata": {
        "id": "RjZtld4F3Unr"
      },
      "source": [
        "<html> <h3 style=\"color:blue;\"> Array Indexing </h3> </html>"
      ]
    },
    {
      "cell_type": "markdown",
      "metadata": {
        "id": "Ib3nAXJv3Unr"
      },
      "source": [
        "**Slicing:**\n",
        "    Similar to Python lists, numpy arrays can be sliced. Since arrays may be multidimensional, you must specify a slice for each dimension of the array:"
      ]
    },
    {
      "cell_type": "markdown",
      "metadata": {
        "id": "393FcFeC3Uns"
      },
      "source": [
        "..................................................![image.png](attachment:11cabfa7-9787-4a3a-94d5-f27b5089bbea.png)"
      ]
    },
    {
      "cell_type": "code",
      "execution_count": null,
      "metadata": {
        "id": "Lcru6F8I3Uns"
      },
      "outputs": [],
      "source": []
    },
    {
      "cell_type": "code",
      "execution_count": null,
      "metadata": {
        "id": "51YiBOvn3Uns",
        "outputId": "25d39af7-031a-4e2c-a155-4244abe9ef7b"
      },
      "outputs": [
        {
          "data": {
            "text/plain": [
              "array([[ 1,  2,  3,  4],\n",
              "       [ 5,  6,  7,  8],\n",
              "       [ 9, 10, 11, 12]])"
            ]
          },
          "execution_count": 41,
          "metadata": {},
          "output_type": "execute_result"
        }
      ],
      "source": []
    },
    {
      "cell_type": "markdown",
      "metadata": {
        "id": "Lm8h2Pkl3Uns"
      },
      "source": [
        "____________________________________________![image.png](attachment:b4086256-1bbb-4e1c-820c-415d37eb11b2.png)"
      ]
    },
    {
      "cell_type": "code",
      "execution_count": null,
      "metadata": {
        "id": "5EKyWFeA3Uns"
      },
      "outputs": [],
      "source": []
    },
    {
      "cell_type": "code",
      "execution_count": null,
      "metadata": {
        "id": "7NE79Y9-3Uns",
        "outputId": "e78fe928-be36-4f84-b535-c07a504f4dd0"
      },
      "outputs": [
        {
          "data": {
            "text/plain": [
              "array([[2, 3],\n",
              "       [6, 7]])"
            ]
          },
          "execution_count": 43,
          "metadata": {},
          "output_type": "execute_result"
        }
      ],
      "source": []
    },
    {
      "cell_type": "markdown",
      "metadata": {
        "id": "18wDOyZ33Uns"
      },
      "source": [
        "____________________________________________![image.png](attachment:f3b12e40-eda9-467d-9711-d9b57f20f6ea.png)"
      ]
    },
    {
      "cell_type": "code",
      "execution_count": null,
      "metadata": {
        "id": "eaBZJeC53Uns"
      },
      "outputs": [],
      "source": []
    },
    {
      "cell_type": "code",
      "execution_count": null,
      "metadata": {
        "id": "dqYtSN_d3Uns",
        "outputId": "b7eca3be-612e-41fb-e20b-095b9fe8d22d"
      },
      "outputs": [
        {
          "name": "stdout",
          "output_type": "stream",
          "text": [
            "2\n"
          ]
        }
      ],
      "source": []
    },
    {
      "cell_type": "markdown",
      "metadata": {
        "id": "9LfeUGs53Uns"
      },
      "source": [
        "____________________________________________![image.png](attachment:3bf651f2-ee5c-4cf3-a41c-8bbfd13bd70f.png)"
      ]
    },
    {
      "cell_type": "code",
      "execution_count": null,
      "metadata": {
        "id": "ONUdBpcK3Uns"
      },
      "outputs": [],
      "source": []
    },
    {
      "cell_type": "code",
      "execution_count": null,
      "metadata": {
        "id": "E3fDXYyl3Uns",
        "outputId": "749f018d-6771-4762-f22b-88a0397e3bc6"
      },
      "outputs": [
        {
          "name": "stdout",
          "output_type": "stream",
          "text": [
            "[[ 1 88  3  4]\n",
            " [ 5  6  7  8]\n",
            " [ 9 10 11 12]]\n"
          ]
        }
      ],
      "source": []
    },
    {
      "cell_type": "code",
      "execution_count": null,
      "metadata": {
        "id": "K74O2yRx3Uns"
      },
      "outputs": [],
      "source": []
    },
    {
      "cell_type": "markdown",
      "metadata": {
        "id": "dDvaTL1G3Uns"
      },
      "source": [
        "<html> <h3 style=\"color:blue;\"> Datatypes </h3> </html>"
      ]
    },
    {
      "cell_type": "markdown",
      "metadata": {
        "id": "OmOu3sB93Uns"
      },
      "source": [
        "Every NumPy array is a grid of elements of the **same type**. Numpy provides a large set of numeric datatypes that you can use to construct arrays. Numpy tries to guess a datatype when you create an array, but you can explicitly specify the type using an optional argument."
      ]
    },
    {
      "cell_type": "markdown",
      "metadata": {
        "id": "oRgh9RDS3Uns"
      },
      "source": [
        "____________________________________________![image.png](attachment:acf9492f-76d6-451f-90d6-f8af21190883.png)"
      ]
    },
    {
      "cell_type": "code",
      "execution_count": null,
      "metadata": {
        "id": "nlbFW6ne3Unt"
      },
      "outputs": [],
      "source": []
    },
    {
      "cell_type": "code",
      "execution_count": null,
      "metadata": {
        "id": "yJMRpHbX3Unt",
        "outputId": "7bd1b865-9ed4-4a53-8d4f-a82815ae2224"
      },
      "outputs": [
        {
          "name": "stdout",
          "output_type": "stream",
          "text": [
            "int32\n"
          ]
        }
      ],
      "source": []
    },
    {
      "cell_type": "markdown",
      "metadata": {
        "id": "-0FLuQNp3Unt"
      },
      "source": [
        "____________________________________________![image.png](attachment:abd5f58f-2ced-436f-bf31-f5455975721d.png)"
      ]
    },
    {
      "cell_type": "code",
      "execution_count": null,
      "metadata": {
        "id": "hdFCfo483Unt"
      },
      "outputs": [],
      "source": []
    },
    {
      "cell_type": "code",
      "execution_count": null,
      "metadata": {
        "id": "KH3fmo233Unt",
        "outputId": "048fe945-d6df-42a0-beba-259830aa142c"
      },
      "outputs": [
        {
          "name": "stdout",
          "output_type": "stream",
          "text": [
            "float64\n"
          ]
        }
      ],
      "source": []
    },
    {
      "cell_type": "markdown",
      "metadata": {
        "id": "K6htMEXM3Unt"
      },
      "source": [
        "____________________________________________![image.png](attachment:cc855679-b5ab-4be8-859f-cbecf8a0fbba.png)"
      ]
    },
    {
      "cell_type": "code",
      "execution_count": null,
      "metadata": {
        "id": "V3FIaSAn3Unt"
      },
      "outputs": [],
      "source": []
    },
    {
      "cell_type": "code",
      "execution_count": null,
      "metadata": {
        "id": "TrwyxajS3Unt",
        "outputId": "1913806e-6cfd-4354-f3f5-67e9de572d87"
      },
      "outputs": [
        {
          "name": "stdout",
          "output_type": "stream",
          "text": [
            "int64\n"
          ]
        }
      ],
      "source": []
    },
    {
      "cell_type": "code",
      "execution_count": null,
      "metadata": {
        "id": "1Xv2jRwQ3Unt"
      },
      "outputs": [],
      "source": []
    },
    {
      "cell_type": "markdown",
      "metadata": {
        "id": "yEmlSYDT3Unt"
      },
      "source": [
        "<html> <h3 style=\"color:blue;\"> Array Math </h3> </html>"
      ]
    },
    {
      "cell_type": "code",
      "execution_count": null,
      "metadata": {
        "id": "C-8YMdmJ3Unt"
      },
      "outputs": [],
      "source": [
        "# Basic mathematical functions operate elementwise on arrays"
      ]
    },
    {
      "cell_type": "markdown",
      "metadata": {
        "id": "y-tZub4U3Unt"
      },
      "source": [
        ".....................................................![image.png](attachment:62b9a0d9-3d99-4b14-a8ad-3711111afd5f.png)"
      ]
    },
    {
      "cell_type": "markdown",
      "metadata": {
        "id": "ZaB-8Ldi3Unt"
      },
      "source": [
        "#### Now just press 'CTRL' and 'ENTER' keys on the next cell."
      ]
    },
    {
      "cell_type": "code",
      "execution_count": null,
      "metadata": {
        "id": "BC_QxgNl3Unu"
      },
      "outputs": [],
      "source": [
        "x = np.array([[1,2],[3,4]], dtype=np.float64)\n",
        "y = np.array([[5,6],[7,8]], dtype=np.float64)\n",
        "print(x, '\\n')       # '\\n' - Line break symbol\n",
        "print(y)"
      ]
    },
    {
      "cell_type": "code",
      "execution_count": null,
      "metadata": {
        "id": "jrubWyl23Unu",
        "outputId": "c7f95f21-21c8-418e-d101-7fa7b79e861a"
      },
      "outputs": [
        {
          "name": "stdout",
          "output_type": "stream",
          "text": [
            "[[1. 2.]\n",
            " [3. 4.]] \n",
            "\n",
            "[[5. 6.]\n",
            " [7. 8.]]\n"
          ]
        }
      ],
      "source": []
    },
    {
      "cell_type": "markdown",
      "metadata": {
        "id": "dM6Kt4q03Unu"
      },
      "source": [
        "____________________________________________![image.png](attachment:c0c48780-516e-48fc-93be-796adc25d912.png)"
      ]
    },
    {
      "cell_type": "code",
      "execution_count": null,
      "metadata": {
        "id": "Le_qIfxI3Unu"
      },
      "outputs": [],
      "source": []
    },
    {
      "cell_type": "code",
      "execution_count": null,
      "metadata": {
        "id": "7P2HweNN3Unu",
        "outputId": "17b90ce1-2cee-4240-90a8-1666a8779cb5"
      },
      "outputs": [
        {
          "name": "stdout",
          "output_type": "stream",
          "text": [
            "[[ 6.  8.]\n",
            " [10. 12.]]\n",
            "\n",
            "\n",
            "[[ 6.  8.]\n",
            " [10. 12.]]\n"
          ]
        }
      ],
      "source": []
    },
    {
      "cell_type": "markdown",
      "metadata": {
        "id": "WWZPSExD3Unu"
      },
      "source": [
        "____________________________________________![image.png](attachment:07714d60-442c-4abd-b584-a8d7af18d9bb.png)"
      ]
    },
    {
      "cell_type": "code",
      "execution_count": null,
      "metadata": {
        "id": "F-6GR1hS3Unu"
      },
      "outputs": [],
      "source": []
    },
    {
      "cell_type": "code",
      "execution_count": null,
      "metadata": {
        "id": "jmTa6oPa3Unu",
        "outputId": "afc2e61a-4117-45eb-e438-8a258b5e961d"
      },
      "outputs": [
        {
          "name": "stdout",
          "output_type": "stream",
          "text": [
            "[[-4. -4.]\n",
            " [-4. -4.]] \n",
            "\n",
            "[[-4. -4.]\n",
            " [-4. -4.]]\n"
          ]
        }
      ],
      "source": []
    },
    {
      "cell_type": "markdown",
      "metadata": {
        "id": "lN_oMZiK3Unu"
      },
      "source": [
        "____________________________________________![image.png](attachment:b6a795f3-e338-490f-a256-39a511082445.png)"
      ]
    },
    {
      "cell_type": "code",
      "execution_count": null,
      "metadata": {
        "id": "EF8mSBbn3Unu"
      },
      "outputs": [],
      "source": []
    },
    {
      "cell_type": "code",
      "execution_count": null,
      "metadata": {
        "id": "TLKWbXqI3Unu",
        "outputId": "e5f95a6b-4b0e-4e09-d5ed-6e709aee4180"
      },
      "outputs": [
        {
          "name": "stdout",
          "output_type": "stream",
          "text": [
            "[[ 5. 12.]\n",
            " [21. 32.]] \n",
            "\n",
            "[[ 5. 12.]\n",
            " [21. 32.]]\n"
          ]
        }
      ],
      "source": []
    },
    {
      "cell_type": "markdown",
      "metadata": {
        "id": "UPdzTCQY3Unu"
      },
      "source": [
        "____________________________________________![image.png](attachment:3ad4361b-8759-4cf4-acda-29ef1b7d6ffc.png)"
      ]
    },
    {
      "cell_type": "code",
      "execution_count": null,
      "metadata": {
        "id": "EXdn9Sl83Unu"
      },
      "outputs": [],
      "source": []
    },
    {
      "cell_type": "code",
      "execution_count": null,
      "metadata": {
        "id": "ThOK5_JM3Unu",
        "outputId": "2bcd9874-551d-4609-f805-754589823456"
      },
      "outputs": [
        {
          "name": "stdout",
          "output_type": "stream",
          "text": [
            "[[0.2        0.33333333]\n",
            " [0.42857143 0.5       ]]\n",
            "\n",
            "\n",
            "[[0.2        0.33333333]\n",
            " [0.42857143 0.5       ]]\n"
          ]
        }
      ],
      "source": []
    },
    {
      "cell_type": "markdown",
      "metadata": {
        "id": "Rl6rN-JU3Unu"
      },
      "source": [
        "____________________________________________![image.png](attachment:a6875e9c-4f66-42f3-a098-5d810431a65c.png)"
      ]
    },
    {
      "cell_type": "code",
      "execution_count": null,
      "metadata": {
        "id": "dLNXUmRu3Unu"
      },
      "outputs": [],
      "source": []
    },
    {
      "cell_type": "code",
      "execution_count": null,
      "metadata": {
        "id": "1Algt9Ja3Unv",
        "outputId": "c2145254-7c1a-42e0-88f7-ca68c0b7f9df"
      },
      "outputs": [
        {
          "name": "stdout",
          "output_type": "stream",
          "text": [
            "[[1.         1.41421356]\n",
            " [1.73205081 2.        ]]\n"
          ]
        }
      ],
      "source": []
    },
    {
      "cell_type": "markdown",
      "metadata": {
        "id": "J4TE7o1j3Unv"
      },
      "source": [
        "____________________________________________![image.png](attachment:85fe41cf-7053-41c8-af99-29afb236745b.png)"
      ]
    },
    {
      "cell_type": "code",
      "execution_count": null,
      "metadata": {
        "id": "-tuYni8s3Unv",
        "outputId": "ac42dc5b-3cd6-4b3a-f5d4-e6ba77782d48"
      },
      "outputs": [
        {
          "data": {
            "text/plain": [
              "array([[ 1.,  8.],\n",
              "       [27., 64.]])"
            ]
          },
          "execution_count": 67,
          "metadata": {},
          "output_type": "execute_result"
        }
      ],
      "source": []
    },
    {
      "cell_type": "markdown",
      "metadata": {
        "id": "LyM3z6K93Unv"
      },
      "source": [
        "____________________________________________![image.png](attachment:e098f400-88dd-4718-a254-9bad8f1d50a8.png)"
      ]
    },
    {
      "cell_type": "code",
      "execution_count": null,
      "metadata": {
        "id": "GEFc4NSX3Unv"
      },
      "outputs": [],
      "source": []
    },
    {
      "cell_type": "code",
      "execution_count": null,
      "metadata": {
        "id": "wgUYf1WU3Unv",
        "outputId": "dc42d1cf-2ef4-46b6-dfba-7510bd6a80ef"
      },
      "outputs": [
        {
          "data": {
            "text/plain": [
              "array([[1.        , 0.5       ],\n",
              "       [0.33333333, 0.25      ]])"
            ]
          },
          "execution_count": 69,
          "metadata": {},
          "output_type": "execute_result"
        }
      ],
      "source": []
    },
    {
      "cell_type": "code",
      "execution_count": null,
      "metadata": {
        "id": "EuAqNfY03Unv"
      },
      "outputs": [],
      "source": []
    },
    {
      "cell_type": "markdown",
      "metadata": {
        "id": "4YidSiQV3Unv"
      },
      "source": [
        "<html> <h3 style=\"color:blue;\"> Matrix Multiplication </h3> </html>"
      ]
    },
    {
      "cell_type": "code",
      "execution_count": null,
      "metadata": {
        "id": "7BmJM7FP3Unv"
      },
      "outputs": [],
      "source": [
        "# Note that the above was elementwise multiplication, not matrix multiplication.\n",
        "# To receive the matrix multiplication, we use the dot function."
      ]
    },
    {
      "cell_type": "markdown",
      "metadata": {
        "id": "CBaIQbqL3Unv"
      },
      "source": [
        "#### Now just press 'CTRL' and 'ENTER' keys on the next cell."
      ]
    },
    {
      "cell_type": "code",
      "execution_count": null,
      "metadata": {
        "id": "qat5uX9Q3Unv",
        "outputId": "d78f5a1b-0f48-4462-9ffa-75a4b23420cb"
      },
      "outputs": [
        {
          "name": "stdout",
          "output_type": "stream",
          "text": [
            "[[1 2]\n",
            " [3 4]] \n",
            "\n",
            " [[5 6]\n",
            " [7 8]] \n",
            "\n",
            " [ 9 10] \n",
            "\n",
            " [11 12]\n"
          ]
        }
      ],
      "source": [
        "x = np.array([[1,2],[3,4]])\n",
        "y = np.array([[5,6],[7,8]])\n",
        "\n",
        "v = np.array([9,10])\n",
        "w = np.array([11, 12])\n",
        "print(x, '\\n\\n', y, '\\n\\n', v, '\\n\\n', w)"
      ]
    },
    {
      "cell_type": "markdown",
      "metadata": {
        "id": "cGpFGO593Unv"
      },
      "source": [
        "![image.png](attachment:4775c518-47b9-4860-8f55-196766891597.png)"
      ]
    },
    {
      "cell_type": "markdown",
      "metadata": {
        "id": "PcTdqOUD3Unw"
      },
      "source": [
        "____________________________________________![image.png](attachment:f04b0822-51b3-4ca0-9645-e930c515bb4b.png)"
      ]
    },
    {
      "cell_type": "code",
      "execution_count": null,
      "metadata": {
        "id": "BqHH9Eqq3Unw"
      },
      "outputs": [],
      "source": []
    },
    {
      "cell_type": "code",
      "execution_count": null,
      "metadata": {
        "id": "G-SBZSyY3Unw",
        "outputId": "568746f9-c091-4077-d135-3f42f600db1b"
      },
      "outputs": [
        {
          "name": "stdout",
          "output_type": "stream",
          "text": [
            "219\n",
            "219\n"
          ]
        }
      ],
      "source": []
    },
    {
      "cell_type": "markdown",
      "metadata": {
        "id": "utgmMXT23Unw"
      },
      "source": [
        "![image.png](attachment:86e4646b-afd4-45a8-bca2-92656bfba0fb.png)"
      ]
    },
    {
      "cell_type": "markdown",
      "metadata": {
        "id": "sJPqwzbp3Unw"
      },
      "source": [
        "Watch this video carefully at **home** and remember how matrices are multiplied\n",
        "\n",
        "https://www.youtube.com/watch?v=2spTnAiQg4M\n"
      ]
    },
    {
      "cell_type": "markdown",
      "metadata": {
        "id": "7GFVJREu3Unw"
      },
      "source": [
        "____________________________________________![image.png](attachment:fd6fab27-ad50-469c-95af-88d37aa1565c.png)"
      ]
    },
    {
      "cell_type": "code",
      "execution_count": null,
      "metadata": {
        "id": "QyCH9ptN3Unw"
      },
      "outputs": [],
      "source": []
    },
    {
      "cell_type": "code",
      "execution_count": null,
      "metadata": {
        "id": "31mlhkyA3Unw",
        "outputId": "f772b410-9b73-49e1-ab3f-85bfdcd0ab0a"
      },
      "outputs": [
        {
          "name": "stdout",
          "output_type": "stream",
          "text": [
            "[29 67]\n",
            "\n",
            "\n",
            "[29 67]\n"
          ]
        }
      ],
      "source": []
    },
    {
      "cell_type": "code",
      "execution_count": null,
      "metadata": {
        "id": "bQFRPCba3Unw"
      },
      "outputs": [],
      "source": [
        "# an example of matrix multiplication:"
      ]
    },
    {
      "cell_type": "markdown",
      "metadata": {
        "id": "UwAvRIGP3Unw"
      },
      "source": [
        "![image.png](attachment:134eb75e-46f0-4059-a113-23d0eb1e4b03.png)"
      ]
    },
    {
      "cell_type": "markdown",
      "metadata": {
        "id": "yxdCEDrE3Unw"
      },
      "source": [
        "____________________________________________![image.png](attachment:88ed560c-87be-4ced-bf7e-e8f7f1c9d370.png)"
      ]
    },
    {
      "cell_type": "code",
      "execution_count": null,
      "metadata": {
        "id": "NNOtOx3p3Unw"
      },
      "outputs": [],
      "source": []
    },
    {
      "cell_type": "code",
      "execution_count": null,
      "metadata": {
        "id": "v6OR9UJT3Unx",
        "outputId": "8f9f2d3c-9a84-4816-a02a-dbd4df75661c"
      },
      "outputs": [
        {
          "name": "stdout",
          "output_type": "stream",
          "text": [
            "[[19 22]\n",
            " [43 50]]\n",
            "\n",
            "\n",
            "[[19 22]\n",
            " [43 50]]\n"
          ]
        }
      ],
      "source": []
    },
    {
      "cell_type": "code",
      "execution_count": null,
      "metadata": {
        "id": "bmCdc64A3Unx"
      },
      "outputs": [],
      "source": []
    },
    {
      "cell_type": "markdown",
      "metadata": {
        "id": "vTeSHl_U3Unx"
      },
      "source": [
        "<html> <h3 style=\"color:blue;\"> Random number array generator </h3> </html>"
      ]
    },
    {
      "cell_type": "markdown",
      "metadata": {
        "id": "2e3VB5N43Unx"
      },
      "source": [
        "____________________________________________![image.png](attachment:b66acf21-ce8f-41c8-bda0-8446e71611f6.png)"
      ]
    },
    {
      "cell_type": "code",
      "execution_count": null,
      "metadata": {
        "id": "J34KgcTP3Unx"
      },
      "outputs": [],
      "source": []
    },
    {
      "cell_type": "code",
      "execution_count": null,
      "metadata": {
        "id": "oTE1ydv53Unx",
        "outputId": "f82dda37-1bdf-4766-b25d-dad4c04ba27e"
      },
      "outputs": [
        {
          "data": {
            "text/plain": [
              "array([0.39530672, 0.94341135, 0.7134285 , 0.41761022])"
            ]
          },
          "execution_count": 79,
          "metadata": {},
          "output_type": "execute_result"
        }
      ],
      "source": []
    },
    {
      "cell_type": "markdown",
      "metadata": {
        "id": "Ji0Tyey03Unx"
      },
      "source": [
        "____________________________________________![image.png](attachment:d502bc7f-c406-47cf-86b0-858b69aa0feb.png)"
      ]
    },
    {
      "cell_type": "code",
      "execution_count": null,
      "metadata": {
        "id": "C3Xa-Ncu3Unx"
      },
      "outputs": [],
      "source": []
    },
    {
      "cell_type": "code",
      "execution_count": null,
      "metadata": {
        "id": "2jyh7A7E3Unx",
        "outputId": "4667ff85-b133-4c81-c58f-4a1a35df36d4"
      },
      "outputs": [
        {
          "data": {
            "text/plain": [
              "array([[0.12647714, 0.37823272, 0.7573721 , 0.11737587],\n",
              "       [0.0020701 , 0.8499101 , 0.93522796, 0.60747499],\n",
              "       [0.27604771, 0.85404114, 0.38664039, 0.58206828],\n",
              "       [0.60229498, 0.18029854, 0.02289854, 0.41117278]])"
            ]
          },
          "execution_count": 84,
          "metadata": {},
          "output_type": "execute_result"
        }
      ],
      "source": []
    },
    {
      "cell_type": "code",
      "execution_count": null,
      "metadata": {
        "id": "SCTyNFcQ3Unx"
      },
      "outputs": [],
      "source": []
    },
    {
      "cell_type": "markdown",
      "metadata": {
        "id": "41LBZFQX3Unx"
      },
      "source": [
        "##### Normal distribution (Gaussian distribution)"
      ]
    },
    {
      "cell_type": "markdown",
      "metadata": {
        "id": "bt2xiicY3Unx"
      },
      "source": [
        "![image.png](attachment:2a8d6d99-a743-406b-af0b-bded80612de1.png)"
      ]
    },
    {
      "cell_type": "markdown",
      "metadata": {
        "id": "scqDgwZ53Unx"
      },
      "source": [
        "______________________![image.png](attachment:197e75d0-c7df-4e33-bbef-34d556c86be8.png)"
      ]
    },
    {
      "cell_type": "code",
      "execution_count": null,
      "metadata": {
        "id": "Ry0klFO43Unx"
      },
      "outputs": [],
      "source": []
    },
    {
      "cell_type": "code",
      "execution_count": null,
      "metadata": {
        "id": "xjksWYNt3Unx",
        "outputId": "588aed02-94a9-444b-db30-6200a9f818a5"
      },
      "outputs": [
        {
          "data": {
            "text/plain": [
              "array([[ 1.81518269, -2.4213843 , -0.59131028, -0.21626991],\n",
              "       [-0.5849672 ,  1.11994527, -0.56770557, -0.82824582],\n",
              "       [-0.55215755,  0.58089468, -1.41957238,  1.32710565],\n",
              "       [-0.90394077, -0.10972108, -0.84841308,  0.09323056]])"
            ]
          },
          "execution_count": 94,
          "metadata": {},
          "output_type": "execute_result"
        }
      ],
      "source": []
    },
    {
      "cell_type": "markdown",
      "metadata": {
        "id": "2nzicIJF3Unx"
      },
      "source": [
        "____________________________________________![image.png](attachment:cd9a9f30-f9b9-42fb-8243-ddb743ee01c3.png)"
      ]
    },
    {
      "cell_type": "code",
      "execution_count": null,
      "metadata": {
        "id": "vrjUuEcO3Uny"
      },
      "outputs": [],
      "source": []
    },
    {
      "cell_type": "code",
      "execution_count": null,
      "metadata": {
        "id": "V2AD_Sx93Uny",
        "outputId": "3c7d1131-45c6-4be3-bc58-2e27367b751c"
      },
      "outputs": [
        {
          "data": {
            "text/plain": [
              "32"
            ]
          },
          "execution_count": 105,
          "metadata": {},
          "output_type": "execute_result"
        }
      ],
      "source": []
    },
    {
      "cell_type": "markdown",
      "metadata": {
        "id": "zWfPAA7Y3Uny"
      },
      "source": [
        "____________________________________________![image.png](attachment:998bb937-89a8-416e-99da-0109fb725b6e.png)"
      ]
    },
    {
      "cell_type": "code",
      "execution_count": null,
      "metadata": {
        "id": "uKPoyN-X3Uny"
      },
      "outputs": [],
      "source": []
    },
    {
      "cell_type": "code",
      "execution_count": null,
      "metadata": {
        "id": "bFjd-lJK3Uny",
        "outputId": "c410c8e8-4f23-421e-93bc-89faa6e88bd8"
      },
      "outputs": [
        {
          "data": {
            "text/plain": [
              "array([113, 180, 139, 142,  35, 135,   6, 120,  17,  26,   4, 154, 173,\n",
              "       164,  34])"
            ]
          },
          "execution_count": 110,
          "metadata": {},
          "output_type": "execute_result"
        }
      ],
      "source": []
    },
    {
      "cell_type": "code",
      "execution_count": null,
      "metadata": {
        "id": "Wb6mUFC83Uny"
      },
      "outputs": [],
      "source": []
    },
    {
      "cell_type": "markdown",
      "metadata": {
        "id": "Qb-OeXKF3Uny"
      },
      "source": [
        "<html> <h3 style=\"color:blue;\"> Reshape </h3> </html>\n",
        "\n",
        "The shape (dimensions) of the array can be changed using the reshape() method\n",
        "This returns an array containing the same data with a new shape."
      ]
    },
    {
      "cell_type": "markdown",
      "metadata": {
        "id": "sEMYn0523Uny"
      },
      "source": [
        "____________________________________________![image.png](attachment:288fc1d4-3930-4e62-8ec9-63be664670c3.png)"
      ]
    },
    {
      "cell_type": "code",
      "execution_count": null,
      "metadata": {
        "id": "56Ud0Pl93Uny"
      },
      "outputs": [],
      "source": []
    },
    {
      "cell_type": "code",
      "execution_count": null,
      "metadata": {
        "id": "W8dgiL4c3Uny",
        "outputId": "c8679db1-8c77-490c-9d8a-499cbac32151"
      },
      "outputs": [
        {
          "data": {
            "text/plain": [
              "array([ 0,  1,  2,  3,  4,  5,  6,  7,  8,  9, 10, 11, 12, 13, 14])"
            ]
          },
          "execution_count": 117,
          "metadata": {},
          "output_type": "execute_result"
        }
      ],
      "source": []
    },
    {
      "cell_type": "markdown",
      "metadata": {
        "id": "01oEe07Z3Uny"
      },
      "source": [
        "____________________________________________![image.png](attachment:3c35d8d2-17f4-43bc-a513-155af5c09df6.png)"
      ]
    },
    {
      "cell_type": "code",
      "execution_count": null,
      "metadata": {
        "id": "eMT4q7Oq3Uny"
      },
      "outputs": [],
      "source": []
    },
    {
      "cell_type": "code",
      "execution_count": null,
      "metadata": {
        "id": "2Y1Qh6Ju3Uny",
        "outputId": "7fe27c65-545a-42df-f120-efa38b43ed32"
      },
      "outputs": [
        {
          "data": {
            "text/plain": [
              "array([[ 0,  1,  2,  3,  4],\n",
              "       [ 5,  6,  7,  8,  9],\n",
              "       [10, 11, 12, 13, 14]])"
            ]
          },
          "execution_count": 122,
          "metadata": {},
          "output_type": "execute_result"
        }
      ],
      "source": []
    },
    {
      "cell_type": "markdown",
      "metadata": {
        "id": "jSO8VwRT3Uny"
      },
      "source": [
        "____________________________________________![image.png](attachment:2ca2045d-3dba-4c89-aeac-8176014a3cdf.png)"
      ]
    },
    {
      "cell_type": "code",
      "execution_count": null,
      "metadata": {
        "id": "zeqjd1z83Uny"
      },
      "outputs": [],
      "source": []
    },
    {
      "cell_type": "code",
      "execution_count": null,
      "metadata": {
        "id": "UVzCJNBT3Uny",
        "outputId": "478c0b67-2889-4f1e-d832-0bd2da82dccd"
      },
      "outputs": [
        {
          "data": {
            "text/plain": [
              "array([[ 0,  1,  2,  3],\n",
              "       [ 4,  5,  6,  7],\n",
              "       [ 8,  9, 10, 11]])"
            ]
          },
          "execution_count": 196,
          "metadata": {},
          "output_type": "execute_result"
        }
      ],
      "source": []
    },
    {
      "cell_type": "code",
      "execution_count": null,
      "metadata": {
        "id": "4VPlG6Jx3Uny"
      },
      "outputs": [],
      "source": []
    },
    {
      "cell_type": "markdown",
      "metadata": {
        "id": "aZvJGoqU3Uny"
      },
      "source": [
        "##### Transposing a Matrix"
      ]
    },
    {
      "cell_type": "markdown",
      "metadata": {
        "id": "JIBx7Jo43Unz"
      },
      "source": [
        "![image.png](attachment:ae787138-a47b-4140-9bec-99a532903bbd.png)"
      ]
    },
    {
      "cell_type": "markdown",
      "metadata": {
        "id": "ABUDKxV03Unz"
      },
      "source": [
        "____________________________________________![image.png](attachment:1e9d411f-d355-4233-9180-639e7659446d.png)"
      ]
    },
    {
      "cell_type": "code",
      "execution_count": null,
      "metadata": {
        "id": "z32b4wUb3Unz"
      },
      "outputs": [],
      "source": []
    },
    {
      "cell_type": "code",
      "execution_count": null,
      "metadata": {
        "id": "UqKhiXN_3Unz",
        "outputId": "9a1ae159-9da6-41ef-f729-c36953e838b9"
      },
      "outputs": [
        {
          "name": "stdout",
          "output_type": "stream",
          "text": [
            "[[ 0  5 10]\n",
            " [ 1  6 11]\n",
            " [ 2  7 12]\n",
            " [ 3  8 13]\n",
            " [ 4  9 14]]\n"
          ]
        }
      ],
      "source": []
    },
    {
      "cell_type": "markdown",
      "metadata": {
        "id": "qhkJ-bsx3Unz"
      },
      "source": [
        "____________________________________________![image.png](attachment:f5b163a3-7ce4-4100-942b-efc07e220eed.png)"
      ]
    },
    {
      "cell_type": "markdown",
      "metadata": {
        "id": "P0_ytxKh3Unz"
      },
      "source": [
        "The command does not create an \"empty\" matrix in the sense of being filled with zeros or having no values. Instead, it returns a new array with the same shape and data type as p, but without initialising the elements — meaning the array elements contain random values that happened to be in memory at the time of allocation"
      ]
    },
    {
      "cell_type": "code",
      "execution_count": null,
      "metadata": {
        "id": "N1sUh5ys3Unz"
      },
      "outputs": [],
      "source": []
    },
    {
      "cell_type": "code",
      "execution_count": null,
      "metadata": {
        "id": "EDrOu_6B3Unz",
        "outputId": "415fa296-8c1e-41e5-b94b-48a52e495a96"
      },
      "outputs": [
        {
          "data": {
            "text/plain": [
              "array([[3801155, 5570652, 6619251, 7536754, 7733340],\n",
              "       [7602281, 7077985, 4259932, 7340144, 6357060],\n",
              "       [6357108, 4980828, 6488175, 7077985, 5505116]])"
            ]
          },
          "execution_count": 141,
          "metadata": {},
          "output_type": "execute_result"
        }
      ],
      "source": []
    },
    {
      "cell_type": "markdown",
      "metadata": {
        "id": "DBcvIzWB3Unz"
      },
      "source": [
        "____________________________________________![image.png](attachment:4bc158d4-9ab4-45cb-8f92-48339dd3e6e5.png)"
      ]
    },
    {
      "cell_type": "code",
      "execution_count": null,
      "metadata": {
        "id": "ttFkgVuj3Unz"
      },
      "outputs": [],
      "source": []
    },
    {
      "cell_type": "code",
      "execution_count": null,
      "metadata": {
        "id": "Vg70Q-kH3Un0",
        "outputId": "e8389b87-42e0-48ad-fd2b-2f3ca9d7f03f"
      },
      "outputs": [
        {
          "name": "stdout",
          "output_type": "stream",
          "text": [
            "[1 0 1] \n",
            "\n",
            "[[1 0 1]\n",
            " [1 0 1]\n",
            " [1 0 1]\n",
            " [1 0 1]]\n"
          ]
        }
      ],
      "source": []
    },
    {
      "cell_type": "code",
      "execution_count": null,
      "metadata": {
        "id": "cAhv7nzX3Un0"
      },
      "outputs": [],
      "source": []
    },
    {
      "cell_type": "markdown",
      "metadata": {
        "id": "GDfJOM0p3Un0"
      },
      "source": [
        "<html> <h3 style=\"color:blue;\"> Functions </h3> </html>"
      ]
    },
    {
      "cell_type": "markdown",
      "metadata": {
        "id": "EdhxdjLU3Un0"
      },
      "source": [
        "____________________________________________![image.png](attachment:bf6cf184-57c9-4dd4-bfb2-7def73549040.png)"
      ]
    },
    {
      "cell_type": "code",
      "execution_count": null,
      "metadata": {
        "id": "uolNNB443Un0"
      },
      "outputs": [],
      "source": []
    },
    {
      "cell_type": "code",
      "execution_count": null,
      "metadata": {
        "id": "HZhEOwzn3Un0",
        "outputId": "679b35ed-fe9f-43ae-ea4e-24982922e549"
      },
      "outputs": [
        {
          "data": {
            "text/plain": [
              "array([[ 1, 88,  3,  4],\n",
              "       [ 5,  6,  7,  8],\n",
              "       [ 9, 10, 11, 12]])"
            ]
          },
          "execution_count": 153,
          "metadata": {},
          "output_type": "execute_result"
        }
      ],
      "source": []
    },
    {
      "cell_type": "code",
      "execution_count": null,
      "metadata": {
        "id": "nNQbSCYa3Un0"
      },
      "outputs": [],
      "source": [
        "# Numpy provides many useful functions for performing computations on arrays; one of the most useful is sum:"
      ]
    },
    {
      "cell_type": "markdown",
      "metadata": {
        "id": "smZJ6DWm3Un0"
      },
      "source": [
        "____________________________________________![image.png](attachment:a7779684-6a28-49f0-9c2f-4fab2a79a47e.png)"
      ]
    },
    {
      "cell_type": "code",
      "execution_count": null,
      "metadata": {
        "id": "n5I_lHar3Un0"
      },
      "outputs": [],
      "source": []
    },
    {
      "cell_type": "code",
      "execution_count": null,
      "metadata": {
        "id": "8TSoVwpp3Un0",
        "outputId": "a3fefca0-72b6-483d-f718-e73de67cd474"
      },
      "outputs": [
        {
          "name": "stdout",
          "output_type": "stream",
          "text": [
            "164\n"
          ]
        }
      ],
      "source": []
    },
    {
      "cell_type": "markdown",
      "metadata": {
        "id": "hCFGBaf73Un0"
      },
      "source": [
        "____________________________________________![image.png](attachment:26e7377d-c022-4e06-8ade-0f49b2759669.png)"
      ]
    },
    {
      "cell_type": "code",
      "execution_count": null,
      "metadata": {
        "id": "K-9yAyzz3Un0"
      },
      "outputs": [],
      "source": []
    },
    {
      "cell_type": "code",
      "execution_count": null,
      "metadata": {
        "id": "5fMYMsIp3Un0",
        "outputId": "37f18f18-4ec8-4f8a-c1d8-eca2a2b4a8b3"
      },
      "outputs": [
        {
          "name": "stdout",
          "output_type": "stream",
          "text": [
            "[ 15 104  21  24]\n"
          ]
        }
      ],
      "source": []
    },
    {
      "cell_type": "markdown",
      "metadata": {
        "id": "hEZlfIqh3Un0"
      },
      "source": [
        "____________________________________________![image.png](attachment:e7c61121-ac0a-43d5-a824-f12b26e99c73.png)"
      ]
    },
    {
      "cell_type": "code",
      "execution_count": null,
      "metadata": {
        "id": "YDDmYKZ53Un0"
      },
      "outputs": [],
      "source": []
    },
    {
      "cell_type": "code",
      "execution_count": null,
      "metadata": {
        "id": "XquhRwI73Un1",
        "outputId": "77e05748-001f-4d17-9ea7-d0da5cc99686"
      },
      "outputs": [
        {
          "name": "stdout",
          "output_type": "stream",
          "text": [
            "[96 26 42]\n"
          ]
        }
      ],
      "source": []
    },
    {
      "cell_type": "markdown",
      "metadata": {
        "id": "D884NeES3Un1"
      },
      "source": [
        "____________________________________________![image.png](attachment:0d80160c-983f-4bcf-9a16-6ce6911f9d4e.png)"
      ]
    },
    {
      "cell_type": "code",
      "execution_count": null,
      "metadata": {
        "id": "OtlFk3s-3Un1"
      },
      "outputs": [],
      "source": []
    },
    {
      "cell_type": "code",
      "execution_count": null,
      "metadata": {
        "id": "wgIdReyX3Un1",
        "outputId": "e4874c4f-4b14-45f9-a637-b154c3c7ceea"
      },
      "outputs": [
        {
          "data": {
            "text/plain": [
              "88"
            ]
          },
          "execution_count": 173,
          "metadata": {},
          "output_type": "execute_result"
        }
      ],
      "source": []
    },
    {
      "cell_type": "markdown",
      "metadata": {
        "id": "Wf4x4Y9U3Un1"
      },
      "source": [
        "____________________________________________![image.png](attachment:16c464a1-f29f-4bd6-8de8-e86eab73c66d.png)"
      ]
    },
    {
      "cell_type": "code",
      "execution_count": null,
      "metadata": {
        "id": "IkFOJtbZ3Un1"
      },
      "outputs": [],
      "source": []
    },
    {
      "cell_type": "code",
      "execution_count": null,
      "metadata": {
        "id": "lV4mbmbL3Un1",
        "outputId": "fb7800e7-e438-42be-eeb7-9ead26245953"
      },
      "outputs": [
        {
          "data": {
            "text/plain": [
              "1"
            ]
          },
          "execution_count": 176,
          "metadata": {},
          "output_type": "execute_result"
        }
      ],
      "source": []
    },
    {
      "cell_type": "markdown",
      "metadata": {
        "id": "HdR84l-03Un1"
      },
      "source": [
        "____________________________________________![image.png](attachment:7ed980b3-88aa-43ee-a31d-3d664d24d492.png)"
      ]
    },
    {
      "cell_type": "code",
      "execution_count": null,
      "metadata": {
        "id": "qKa_fnXJ3Un1"
      },
      "outputs": [],
      "source": []
    },
    {
      "cell_type": "code",
      "execution_count": null,
      "metadata": {
        "id": "oIl7Idux3Un1",
        "outputId": "06d88fa6-93b2-41a3-ba9a-d779b2aa10f5"
      },
      "outputs": [
        {
          "data": {
            "text/plain": [
              "1"
            ]
          },
          "execution_count": 184,
          "metadata": {},
          "output_type": "execute_result"
        }
      ],
      "source": []
    },
    {
      "cell_type": "markdown",
      "metadata": {
        "id": "w12oJv3A3Un1"
      },
      "source": [
        "____________________________________________![image.png](attachment:7ca34411-c78a-4d05-8f4b-64459220ad88.png)"
      ]
    },
    {
      "cell_type": "code",
      "execution_count": null,
      "metadata": {
        "id": "sEH8zoMB3Un1"
      },
      "outputs": [],
      "source": []
    },
    {
      "cell_type": "code",
      "execution_count": null,
      "metadata": {
        "id": "8B_Homii3Un1",
        "outputId": "50bbbd56-a0f0-45b9-e5d2-a46ab7aea5e7"
      },
      "outputs": [
        {
          "data": {
            "text/plain": [
              "0"
            ]
          },
          "execution_count": 188,
          "metadata": {},
          "output_type": "execute_result"
        }
      ],
      "source": []
    },
    {
      "cell_type": "code",
      "execution_count": null,
      "metadata": {
        "id": "mmjUwmCC3Un2"
      },
      "outputs": [],
      "source": []
    },
    {
      "cell_type": "markdown",
      "metadata": {
        "id": "tcER_1_J3Un2"
      },
      "source": [
        "<html> <h3 style=\"color:blue;\"> Shape </h3> </html>"
      ]
    },
    {
      "cell_type": "markdown",
      "metadata": {
        "id": "m8Jw4tYS3Un2"
      },
      "source": [
        "The size of a Numpy array can be retrieved using the attribute named \"shape\". Please note it is not a method. Attribute does not use \"()\" when evoked."
      ]
    },
    {
      "cell_type": "markdown",
      "metadata": {
        "id": "-l3NT0qR3Un2"
      },
      "source": [
        "____________________________________________![image.png](attachment:c1e69ea3-9843-4361-87d3-39c77f8936e4.png)"
      ]
    },
    {
      "cell_type": "code",
      "execution_count": null,
      "metadata": {
        "id": "cghRbltp3Un2"
      },
      "outputs": [],
      "source": []
    },
    {
      "cell_type": "code",
      "execution_count": null,
      "metadata": {
        "id": "b2F_GRYO3Un2",
        "outputId": "159d94d8-9e1e-4195-a957-30e790668a63"
      },
      "outputs": [
        {
          "name": "stdout",
          "output_type": "stream",
          "text": [
            "[0 1 2 3 4 5 6 7 8 9]\n",
            "(10,)\n"
          ]
        }
      ],
      "source": []
    },
    {
      "cell_type": "markdown",
      "metadata": {
        "id": "z_rfhfnC3Un2"
      },
      "source": [
        "____________________________________________![image.png](attachment:53dde3eb-9adf-400d-9d8b-e94692a80ef5.png)"
      ]
    },
    {
      "cell_type": "code",
      "execution_count": null,
      "metadata": {
        "id": "jid_50953Un2",
        "outputId": "92bcdd02-f368-48a2-9164-63130f5495eb"
      },
      "outputs": [
        {
          "name": "stdout",
          "output_type": "stream",
          "text": [
            "[[ 1 88  3  4]\n",
            " [ 5  6  7  8]\n",
            " [ 9 10 11 12]]\n",
            "(3, 4)\n"
          ]
        }
      ],
      "source": []
    },
    {
      "cell_type": "markdown",
      "metadata": {
        "id": "xHiXYyHC3Un2"
      },
      "source": [
        "The shape of an array can be changed with various commands. Note that the following three commands all return a modified array, but do not change the original array:"
      ]
    },
    {
      "cell_type": "markdown",
      "metadata": {
        "id": "ZUbQn66v3Un2"
      },
      "source": [
        "____________________________________________![image.png](attachment:d481818b-d0c0-4c0b-8443-2369390cc1fa.png)"
      ]
    },
    {
      "cell_type": "code",
      "execution_count": null,
      "metadata": {
        "id": "TuSn3cXQ3Un2"
      },
      "outputs": [],
      "source": []
    },
    {
      "cell_type": "code",
      "execution_count": null,
      "metadata": {
        "id": "3z9xkgNW3Un2",
        "outputId": "c5565bbd-a440-4383-a38f-e8772bb23478"
      },
      "outputs": [
        {
          "data": {
            "text/plain": [
              "array([ 1, 88,  3,  4,  5,  6,  7,  8,  9, 10, 11, 12])"
            ]
          },
          "execution_count": 244,
          "metadata": {},
          "output_type": "execute_result"
        }
      ],
      "source": []
    },
    {
      "cell_type": "markdown",
      "metadata": {
        "id": "Mxx3yR5Z3Un2"
      },
      "source": [
        "____________________________________________![image.png](attachment:e9a52f60-26dc-4230-97e6-b877ed8e8bba.png)"
      ]
    },
    {
      "cell_type": "code",
      "execution_count": null,
      "metadata": {
        "id": "UCdJcYWA3Un2"
      },
      "outputs": [],
      "source": []
    },
    {
      "cell_type": "code",
      "execution_count": null,
      "metadata": {
        "id": "XwMyiu1I3Un3",
        "outputId": "5269e0cd-eac7-4019-a35c-271b210f0fee"
      },
      "outputs": [
        {
          "data": {
            "text/plain": [
              "array([[ 1, 88],\n",
              "       [ 3,  4],\n",
              "       [ 5,  6],\n",
              "       [ 7,  8],\n",
              "       [ 9, 10],\n",
              "       [11, 12]])"
            ]
          },
          "execution_count": 249,
          "metadata": {},
          "output_type": "execute_result"
        }
      ],
      "source": []
    },
    {
      "cell_type": "markdown",
      "metadata": {
        "id": "jxpKL9Ns3Un3"
      },
      "source": [
        "____________________________________________![image.png](attachment:4ac28c80-ba5d-4357-a3e7-6fba7fc3d9f4.png)"
      ]
    },
    {
      "cell_type": "code",
      "execution_count": null,
      "metadata": {
        "id": "p-mfRu9k3Un3"
      },
      "outputs": [],
      "source": []
    },
    {
      "cell_type": "code",
      "execution_count": null,
      "metadata": {
        "id": "zODX9o0t3Un3",
        "outputId": "1e8f174c-055f-444b-9e29-efbdeb895185"
      },
      "outputs": [
        {
          "name": "stdout",
          "output_type": "stream",
          "text": [
            "(3, 4)\n",
            "(4, 3)\n"
          ]
        }
      ],
      "source": []
    },
    {
      "cell_type": "code",
      "execution_count": null,
      "metadata": {
        "id": "l8foign-3Un3"
      },
      "outputs": [],
      "source": []
    },
    {
      "cell_type": "markdown",
      "metadata": {
        "id": "H7ZnnJyQ3Un3"
      },
      "source": [
        "Change matrix a to **2-d** array with 1 column. Notice the two sets of brackets for a 2-d array with one column.\n",
        "\n",
        "Save it in another array.\n",
        "\n",
        "Check the shape attribute value."
      ]
    },
    {
      "cell_type": "markdown",
      "metadata": {
        "id": "3y9gcNmE3Un3"
      },
      "source": [
        "____________________________________________![image.png](attachment:a3063539-2ef1-4ae3-a392-e9baf8ab8ca3.png)"
      ]
    },
    {
      "cell_type": "code",
      "execution_count": null,
      "metadata": {
        "id": "UuaeQWdr3Un3"
      },
      "outputs": [],
      "source": []
    },
    {
      "cell_type": "code",
      "execution_count": null,
      "metadata": {
        "id": "xgq55yX83Un3",
        "outputId": "ecfbc1c5-7906-410d-b26b-097c2e3d906c"
      },
      "outputs": [
        {
          "name": "stdout",
          "output_type": "stream",
          "text": [
            "[[ 1]\n",
            " [88]\n",
            " [ 3]\n",
            " [ 4]\n",
            " [ 5]\n",
            " [ 6]\n",
            " [ 7]\n",
            " [ 8]\n",
            " [ 9]\n",
            " [10]\n",
            " [11]\n",
            " [12]]\n",
            "\n",
            "\n",
            "(12, 1)\n"
          ]
        }
      ],
      "source": []
    },
    {
      "cell_type": "markdown",
      "metadata": {
        "id": "V55hT7JM3Un3"
      },
      "source": [
        "<html> <h3 style=\"font-style:italic; color:#FF0000;\"> (!) From the point of view of mathematics - this is a 1-d vector.\n",
        "However, in terms of Numpy, it is a 2-dimensional array.\n",
        "</h3> </html>"
      ]
    },
    {
      "cell_type": "code",
      "execution_count": null,
      "metadata": {
        "id": "Xi8UzjTh3Un3"
      },
      "outputs": [],
      "source": []
    },
    {
      "cell_type": "markdown",
      "metadata": {
        "id": "pv2c-IAB3Un3"
      },
      "source": [
        "# Lab Logbook Requirement:"
      ]
    },
    {
      "cell_type": "markdown",
      "metadata": {
        "id": "t7_iT2sX3Un3"
      },
      "source": [
        "<html> <h3 style=\"font-style:italic; color:blue;\">\n",
        "1) Create a vector using np.arange.\n",
        "\n",
        "Determine the number of the vector elements using the following method: Take the last two digits from your SID. It should be from 00 to 99. If this number is 10 or more, it becomes the required number of the vector elements. If it is less than 10, add 100 to your number.\n",
        "\n",
        "For example, if your SID is 2287467, and the last two digits are 67, which is greater than 10. The required number is 67. If your SID is 2287407, and the last two digits are 07, which is less than 10. The required number is 107.\n",
        "\n",
        "Then,\n",
        "\n",
        "2) Change matrix a to 2-d array with 1 row. Print the array.\n",
        "You should have the two sets of brackets for a 2-d array with one row.\n",
        "3) Save it in another array. Print the array.\n",
        "4) Check the shape attribute value.\n",
        "5) Add the code and result to your Lab Logbook\n",
        "</h3> </html>"
      ]
    },
    {
      "cell_type": "markdown",
      "metadata": {
        "id": "6-rOGeUP3Un3"
      },
      "source": [
        "<html> <h3 style=\"color:red;\">\n",
        "NOTE: DON'T FORGET TO SAVE AND BACK UP YOUR COMPLETED JUPYTER NOTEBOOK AND LAB LOGBOOK ON GITHUB OR ONEDRIVE.\n",
        "</h3> </html>"
      ]
    },
    {
      "cell_type": "code",
      "execution_count": 1,
      "metadata": {
        "colab": {
          "base_uri": "https://localhost:8080/"
        },
        "id": "iO7SbLMO3Un3",
        "outputId": "92031bb5-9f54-4f54-bab3-102579fe4df8"
      },
      "outputs": [
        {
          "output_type": "stream",
          "name": "stdout",
          "text": [
            "The 1-d vector is:\n",
            "\n",
            "\n",
            "[ 1  2  3  4  5  6  7  8  9 10 11 12 13 14 15 16 17 18 19 20 21 22 23 24\n",
            " 25 26 27 28 29 30 31 32 33 34 35 36 37 38 39 40 41 42 43 44 45 46 47 48\n",
            " 49 50 51 52 53 54 55 56 57 58 59 60 61 62 63 64 65 66 67 68 69 70 71 72\n",
            " 73 74 75 76 77 78 79 80 81]\n",
            "\n",
            "\n",
            "The 2-d vector is:\n",
            "\n",
            "\n",
            "[[ 1  2  3  4  5  6  7  8  9 10 11 12 13 14 15 16 17 18 19 20 21 22 23 24\n",
            "  25 26 27 28 29 30 31 32 33 34 35 36 37 38 39 40 41 42 43 44 45 46 47 48\n",
            "  49 50 51 52 53 54 55 56 57 58 59 60 61 62 63 64 65 66 67 68 69 70 71 72\n",
            "  73 74 75 76 77 78 79 80 81]]\n",
            "\n",
            "\n",
            "The new array 'k' is\n",
            "\n",
            "\n",
            "[[ 1  2  3  4  5  6  7  8  9 10 11 12 13 14 15 16 17 18 19 20 21 22 23 24\n",
            "  25 26 27 28 29 30 31 32 33 34 35 36 37 38 39 40 41 42 43 44 45 46 47 48\n",
            "  49 50 51 52 53 54 55 56 57 58 59 60 61 62 63 64 65 66 67 68 69 70 71 72\n",
            "  73 74 75 76 77 78 79 80 81]]\n",
            "\n",
            "\n",
            "The shape of the 1-d vector 'Nandu' is\n",
            "\n",
            "\n",
            "(81,)\n",
            "\n",
            "\n",
            "The shape of the 2-d vector 'b' is\n",
            "\n",
            "\n",
            "(1, 81)\n",
            "\n",
            "\n",
            "The shape of the new array 'k' is\n",
            "\n",
            "\n",
            "(1, 81)\n"
          ]
        }
      ],
      "source": [
        "import numpy as np\n",
        "sid = 2454981\n",
        "last_two_digits_sid = 81\n",
        "if last_two_digits_sid >= 10:\n",
        "    num_elements = last_two_digits_sid\n",
        "else:\n",
        "    num_elements = 100+ last_two_digits_sid\n",
        "Nanda = np.arange(1,82)\n",
        "print(\"The 1-d vector is:\")\n",
        "print('\\n')\n",
        "print(Nanda)\n",
        "b = Nanda.reshape(1, num_elements)\n",
        "print('\\n')\n",
        "print(\"The 2-d vector is:\")\n",
        "print('\\n')\n",
        "print(b)\n",
        "k = b\n",
        "print('\\n')\n",
        "print(\"The new array 'k' is\")\n",
        "print('\\n')\n",
        "print(k)\n",
        "print('\\n')\n",
        "print(\"The shape of the 1-d vector 'Nandu' is\")\n",
        "print('\\n')\n",
        "print(Nanda.shape)\n",
        "print('\\n')\n",
        "print(\"The shape of the 2-d vector 'b' is\")\n",
        "print('\\n')\n",
        "print(b.shape)\n",
        "print('\\n')\n",
        "print(\"The shape of the new array 'k' is\")\n",
        "print('\\n')\n",
        "print(k.shape)\n"
      ]
    }
  ],
  "metadata": {
    "kernelspec": {
      "display_name": "Python [conda env:anaconda3]",
      "language": "python",
      "name": "conda-env-anaconda3-py"
    },
    "language_info": {
      "codemirror_mode": {
        "name": "ipython",
        "version": 3
      },
      "file_extension": ".py",
      "mimetype": "text/x-python",
      "name": "python",
      "nbconvert_exporter": "python",
      "pygments_lexer": "ipython3",
      "version": "3.12.7"
    },
    "colab": {
      "provenance": [],
      "include_colab_link": true
    }
  },
  "nbformat": 4,
  "nbformat_minor": 0
}